{
  "nbformat": 4,
  "nbformat_minor": 0,
  "metadata": {
    "kernelspec": {
      "display_name": "Python 3",
      "language": "python",
      "name": "python3"
    },
    "language_info": {
      "codemirror_mode": {
        "name": "ipython",
        "version": 3
      },
      "file_extension": ".py",
      "mimetype": "text/x-python",
      "name": "python",
      "nbconvert_exporter": "python",
      "pygments_lexer": "ipython3",
      "version": "3.6.7"
    },
    "colab": {
      "name": "classifier_comparision.ipynb",
      "provenance": [],
      "collapsed_sections": [],
      "include_colab_link": true
    }
  },
  "cells": [
    {
      "cell_type": "markdown",
      "metadata": {
        "id": "view-in-github",
        "colab_type": "text"
      },
      "source": [
        "<a href=\"https://colab.research.google.com/github/poojitagarg/AI_Classifier_Comparison/blob/master/classifier_comparision.ipynb\" target=\"_parent\"><img src=\"https://colab.research.google.com/assets/colab-badge.svg\" alt=\"Open In Colab\"/></a>"
      ]
    },
    {
      "cell_type": "code",
      "metadata": {
        "id": "7wXLOMXP0iMA",
        "colab_type": "code",
        "colab": {}
      },
      "source": [
        "# Run some setup code for this notebook.\n",
        "import random\n",
        "import numpy as np\n",
        "import pandas as pd\n",
        "from sklearn import datasets"
      ],
      "execution_count": 0,
      "outputs": []
    },
    {
      "cell_type": "code",
      "metadata": {
        "id": "9CsT9nek0iMc",
        "colab_type": "code",
        "colab": {}
      },
      "source": [
        "#from sklearn.cross_validation import train_test_split\n",
        "from sklearn.neighbors import KNeighborsClassifier\n",
        "from sklearn.linear_model import LogisticRegression\n",
        "from sklearn.svm import SVC\n",
        "from sklearn import metrics"
      ],
      "execution_count": 0,
      "outputs": []
    },
    {
      "cell_type": "code",
      "metadata": {
        "id": "FANPGA2G0iMx",
        "colab_type": "code",
        "colab": {}
      },
      "source": [
        "iris = datasets.load_iris()\n",
        "digits = datasets.load_digits()\n",
        "boston = datasets.load_boston()"
      ],
      "execution_count": 0,
      "outputs": []
    },
    {
      "cell_type": "code",
      "metadata": {
        "id": "FVM6y1UA0iNJ",
        "colab_type": "code",
        "outputId": "926026ae-994b-413d-8a8d-99a39cccfdd0",
        "colab": {
          "base_uri": "https://localhost:8080/",
          "height": 85
        }
      },
      "source": [
        "print(iris.keys())\n",
        "print(\"Header : \", iris.feature_names)\n",
        "print(\"Target : \", iris.target[np.random.choice(150,20)])\n",
        "print(iris.data.shape)"
      ],
      "execution_count": 0,
      "outputs": [
        {
          "output_type": "stream",
          "text": [
            "dict_keys(['data', 'target', 'target_names', 'DESCR', 'feature_names', 'filename'])\n",
            "Header :  ['sepal length (cm)', 'sepal width (cm)', 'petal length (cm)', 'petal width (cm)']\n",
            "Target :  [2 1 2 2 1 0 0 0 1 2 0 0 1 0 1 0 2 0 1 2]\n",
            "(150, 4)\n"
          ],
          "name": "stdout"
        }
      ]
    },
    {
      "cell_type": "code",
      "metadata": {
        "id": "Bx2ogD_V2S0Q",
        "colab_type": "code",
        "outputId": "4c1818dd-0aa0-4209-8f10-46fc0b3f4ae0",
        "colab": {
          "base_uri": "https://localhost:8080/",
          "height": 102
        }
      },
      "source": [
        "print(digits.keys())\n",
        "print('class:', digits.target_names)\n",
        "print(\"Target : \", digits.target[np.random.choice(150,20)])\n",
        "print(digits.data.shape)\n",
        "print(digits.images.shape)"
      ],
      "execution_count": 0,
      "outputs": [
        {
          "output_type": "stream",
          "text": [
            "dict_keys(['data', 'target', 'target_names', 'images', 'DESCR'])\n",
            "class: [0 1 2 3 4 5 6 7 8 9]\n",
            "Target :  [8 0 7 7 5 6 3 6 4 9 6 8 0 9 7 4 5 3 7 6]\n",
            "(1797, 64)\n",
            "(1797, 8, 8)\n"
          ],
          "name": "stdout"
        }
      ]
    },
    {
      "cell_type": "code",
      "metadata": {
        "id": "vUuqmhGgPXym",
        "colab_type": "code",
        "outputId": "27b62c66-a72f-43f0-a1a4-84880493b4e9",
        "colab": {
          "base_uri": "https://localhost:8080/",
          "height": 187
        }
      },
      "source": [
        "print(boston.keys())\n",
        "print(\"Target : \", boston.target[np.random.choice(150,20)])\n",
        "print(boston.data)"
      ],
      "execution_count": 0,
      "outputs": [
        {
          "output_type": "stream",
          "text": [
            "dict_keys(['data', 'target', 'feature_names', 'DESCR', 'filename'])\n",
            "Target :  [21.2 22.  24.8 21.  22.2 19.6 24.  13.8 24.7 13.4 22.6 34.9 18.2 30.8\n",
            " 21.  21.6 22.  15.6 16.5 12.7]\n",
            "[[6.3200e-03 1.8000e+01 2.3100e+00 ... 1.5300e+01 3.9690e+02 4.9800e+00]\n",
            " [2.7310e-02 0.0000e+00 7.0700e+00 ... 1.7800e+01 3.9690e+02 9.1400e+00]\n",
            " [2.7290e-02 0.0000e+00 7.0700e+00 ... 1.7800e+01 3.9283e+02 4.0300e+00]\n",
            " ...\n",
            " [6.0760e-02 0.0000e+00 1.1930e+01 ... 2.1000e+01 3.9690e+02 5.6400e+00]\n",
            " [1.0959e-01 0.0000e+00 1.1930e+01 ... 2.1000e+01 3.9345e+02 6.4800e+00]\n",
            " [4.7410e-02 0.0000e+00 1.1930e+01 ... 2.1000e+01 3.9690e+02 7.8800e+00]]\n"
          ],
          "name": "stdout"
        }
      ]
    },
    {
      "cell_type": "code",
      "metadata": {
        "id": "iYwojxdxWivC",
        "colab_type": "code",
        "outputId": "cbcb77a2-92f9-45cd-a0df-237dabc5576d",
        "colab": {
          "base_uri": "https://localhost:8080/",
          "height": 34
        }
      },
      "source": [
        "# saved into numpy matrix\n",
        "bos_data=boston.data\n",
        "bos_data.shape\n"
      ],
      "execution_count": 0,
      "outputs": [
        {
          "output_type": "execute_result",
          "data": {
            "text/plain": [
              "(506, 13)"
            ]
          },
          "metadata": {
            "tags": []
          },
          "execution_count": 205
        }
      ]
    },
    {
      "cell_type": "code",
      "metadata": {
        "id": "PUNidaWGtuct",
        "colab_type": "code",
        "outputId": "8ae4241b-7e9a-4c74-e61e-b4d80ae3ab13",
        "colab": {
          "base_uri": "https://localhost:8080/",
          "height": 34
        }
      },
      "source": [
        "#adding column for price values\n",
        "bos_data=np.c_[bos_data,np.zeros((len(bos),1))]\n",
        "bos_data.shape"
      ],
      "execution_count": 0,
      "outputs": [
        {
          "output_type": "execute_result",
          "data": {
            "text/plain": [
              "(506, 14)"
            ]
          },
          "metadata": {
            "tags": []
          },
          "execution_count": 174
        }
      ]
    },
    {
      "cell_type": "code",
      "metadata": {
        "id": "9669Aoyomqoc",
        "colab_type": "code",
        "outputId": "f83d2af2-f87b-4447-9568-a65d45c47911",
        "colab": {
          "base_uri": "https://localhost:8080/",
          "height": 153
        }
      },
      "source": [
        "bos_data[:,-1]=boston.target\n",
        "print(bos_data)\n",
        "print(bos_data.shape)"
      ],
      "execution_count": 0,
      "outputs": [
        {
          "output_type": "stream",
          "text": [
            "[[6.3200e-03 1.8000e+01 2.3100e+00 ... 3.9690e+02 4.9800e+00 2.4000e+01]\n",
            " [2.7310e-02 0.0000e+00 7.0700e+00 ... 3.9690e+02 9.1400e+00 2.1600e+01]\n",
            " [2.7290e-02 0.0000e+00 7.0700e+00 ... 3.9283e+02 4.0300e+00 3.4700e+01]\n",
            " ...\n",
            " [6.0760e-02 0.0000e+00 1.1930e+01 ... 3.9690e+02 5.6400e+00 2.3900e+01]\n",
            " [1.0959e-01 0.0000e+00 1.1930e+01 ... 3.9345e+02 6.4800e+00 2.2000e+01]\n",
            " [4.7410e-02 0.0000e+00 1.1930e+01 ... 3.9690e+02 7.8800e+00 1.1900e+01]]\n",
            "(506, 14)\n"
          ],
          "name": "stdout"
        }
      ]
    },
    {
      "cell_type": "code",
      "metadata": {
        "id": "10CJ6i07wWWL",
        "colab_type": "code",
        "outputId": "f9ce706f-9a1f-427b-cffd-ddcc3284f2a0",
        "colab": {
          "base_uri": "https://localhost:8080/",
          "height": 34
        }
      },
      "source": [
        "# adding column for bins(0,1,2)\n",
        "bos_data=np.c_[bos_data,np.zeros((len(bos),1))]\n",
        "bos_data.shape"
      ],
      "execution_count": 0,
      "outputs": [
        {
          "output_type": "execute_result",
          "data": {
            "text/plain": [
              "(506, 15)"
            ]
          },
          "metadata": {
            "tags": []
          },
          "execution_count": 178
        }
      ]
    },
    {
      "cell_type": "code",
      "metadata": {
        "id": "CXAyMjtSwV-z",
        "colab_type": "code",
        "outputId": "47c232c3-2ea0-4a5e-b10a-a0c1a41e829a",
        "colab": {
          "base_uri": "https://localhost:8080/",
          "height": 136
        }
      },
      "source": [
        "# 0--> low cost bracket\n",
        "# 1--> Medium cost bracket\n",
        "# 2--> High cost bracket\n",
        "for i in range(len(bos_data)):\n",
        "  if (bos_data[i,-2]>=5) & (bos_data[i,-2]<17):\n",
        "    bos_data[i,-1]=0\n",
        "  elif (bos_data[i,-2]>=17) & (bos_data[i,-2]<25):\n",
        "    bos_data[i,-1]=1\n",
        "  else:\n",
        "    bos_data[i,-1]=2\n",
        "print(bos_data)"
      ],
      "execution_count": 0,
      "outputs": [
        {
          "output_type": "stream",
          "text": [
            "[[6.3200e-03 1.8000e+01 2.3100e+00 ... 4.9800e+00 2.4000e+01 1.0000e+00]\n",
            " [2.7310e-02 0.0000e+00 7.0700e+00 ... 9.1400e+00 2.1600e+01 1.0000e+00]\n",
            " [2.7290e-02 0.0000e+00 7.0700e+00 ... 4.0300e+00 3.4700e+01 2.0000e+00]\n",
            " ...\n",
            " [6.0760e-02 0.0000e+00 1.1930e+01 ... 5.6400e+00 2.3900e+01 1.0000e+00]\n",
            " [1.0959e-01 0.0000e+00 1.1930e+01 ... 6.4800e+00 2.2000e+01 1.0000e+00]\n",
            " [4.7410e-02 0.0000e+00 1.1930e+01 ... 7.8800e+00 1.1900e+01 0.0000e+00]]\n"
          ],
          "name": "stdout"
        }
      ]
    },
    {
      "cell_type": "code",
      "metadata": {
        "id": "QTjp86PP0iN5",
        "colab_type": "code",
        "colab": {}
      },
      "source": [
        "\n",
        "from sklearn.model_selection import train_test_split\n",
        "X = iris.data\n",
        "y = iris.target\n",
        "X1_train, X1_test, y1_train, y1_test = train_test_split(X, y, test_size=0.4, random_state=4)"
      ],
      "execution_count": 0,
      "outputs": []
    },
    {
      "cell_type": "code",
      "metadata": {
        "id": "EEPzHWr1-6DE",
        "colab_type": "code",
        "colab": {}
      },
      "source": [
        "X = digits.data\n",
        "y = digits.target\n",
        "X2_train, X2_test, y2_train, y2_test = train_test_split(X, y, test_size=0.33, random_state=4)"
      ],
      "execution_count": 0,
      "outputs": []
    },
    {
      "cell_type": "code",
      "metadata": {
        "id": "O15Iau9IM-QY",
        "colab_type": "code",
        "colab": {}
      },
      "source": [
        "X = bos_data[:,:-2]\n",
        "y = bos_data[:,-1]\n",
        "X3_train, X3_test, y3_train, y3_test = train_test_split(X, y, test_size=0.33, random_state=4)"
      ],
      "execution_count": 0,
      "outputs": []
    },
    {
      "cell_type": "markdown",
      "metadata": {
        "id": "KOovBVqRCvYL",
        "colab_type": "text"
      },
      "source": [
        "IRIS **dataset**"
      ]
    },
    {
      "cell_type": "code",
      "metadata": {
        "id": "BnSivk_10iO6",
        "colab_type": "code",
        "outputId": "f1c76262-3eaf-4646-ff7c-f8877d9e7bb1",
        "colab": {
          "base_uri": "https://localhost:8080/",
          "height": 34
        }
      },
      "source": [
        "#knn(3) for iris dataset\n",
        "knn = KNeighborsClassifier(n_neighbors=3)\n",
        "knn.fit(X1_train, y1_train)\n",
        "y1_pred=knn.predict(X1_test)\n",
        "print(metrics.accuracy_score(y1_test, y1_pred))"
      ],
      "execution_count": 0,
      "outputs": [
        {
          "output_type": "stream",
          "text": [
            "0.6946107784431138\n"
          ],
          "name": "stdout"
        }
      ]
    },
    {
      "cell_type": "code",
      "metadata": {
        "id": "Dlyhjj6PCVNW",
        "colab_type": "code",
        "outputId": "52883d05-0651-424a-aa06-a03271890cc4",
        "colab": {
          "base_uri": "https://localhost:8080/",
          "height": 34
        }
      },
      "source": [
        "# SCV(kernel='linear',c=0.025) for iris dataset\n",
        "clf=SVC(C=0.025,kernel=\"linear\")\n",
        "clf.fit(X1_train,y1_train)\n",
        "y1_pred=clf.predict(X1_test)\n",
        "print(metrics.accuracy_score(y1_test,y1_pred))"
      ],
      "execution_count": 0,
      "outputs": [
        {
          "output_type": "stream",
          "text": [
            "0.95\n"
          ],
          "name": "stdout"
        }
      ]
    },
    {
      "cell_type": "code",
      "metadata": {
        "id": "K4QBCd4FDNIM",
        "colab_type": "code",
        "outputId": "42a8a38e-6fe9-4639-dfcc-7f5db2eb01a7",
        "colab": {
          "base_uri": "https://localhost:8080/",
          "height": 34
        }
      },
      "source": [
        "#SVC(c=1,gamma=2)\n",
        "clf=SVC(C=1,gamma=2)\n",
        "clf.fit(X1_train,y1_train)\n",
        "y1_pred=clf.predict(X1_test)\n",
        "print(metrics.accuracy_score(y1_test,y1_pred))"
      ],
      "execution_count": 0,
      "outputs": [
        {
          "output_type": "stream",
          "text": [
            "0.9833333333333333\n"
          ],
          "name": "stdout"
        }
      ]
    },
    {
      "cell_type": "code",
      "metadata": {
        "id": "O92zLf8KECBm",
        "colab_type": "code",
        "outputId": "8045392f-1412-4578-d9ed-3fe050402677",
        "colab": {
          "base_uri": "https://localhost:8080/",
          "height": 34
        }
      },
      "source": [
        "#gaussian process classifier(1.0*RBF(1.0))\n",
        "from sklearn.gaussian_process import GaussianProcessClassifier\n",
        "from sklearn.gaussian_process.kernels import RBF\n",
        "kernel = 1.0 * RBF(1.0)\n",
        "gpc = GaussianProcessClassifier(kernel=kernel)\n",
        "gpc.fit(X1_train,y1_train)\n",
        "y1_pred=gpc.predict(X1_test)\n",
        "print(metrics.accuracy_score(y1_test,y1_pred))"
      ],
      "execution_count": 0,
      "outputs": [
        {
          "output_type": "stream",
          "text": [
            "0.9666666666666667\n"
          ],
          "name": "stdout"
        }
      ]
    },
    {
      "cell_type": "code",
      "metadata": {
        "id": "L13yfaXRH_BG",
        "colab_type": "code",
        "outputId": "29ea1bde-92ed-4a78-c0ef-7fc220389b7c",
        "colab": {
          "base_uri": "https://localhost:8080/",
          "height": 34
        }
      },
      "source": [
        "#decision tree classifer\n",
        "from sklearn import tree\n",
        "dtc = tree.DecisionTreeClassifier(max_depth=5)\n",
        "dtc.fit(X1_train,y1_train)\n",
        "y1_pred=dtc.predict(X1_test)\n",
        "print(metrics.accuracy_score(y1_test,y1_pred))"
      ],
      "execution_count": 0,
      "outputs": [
        {
          "output_type": "stream",
          "text": [
            "0.9666666666666667\n"
          ],
          "name": "stdout"
        }
      ]
    },
    {
      "cell_type": "code",
      "metadata": {
        "id": "7fa-w5JHJLXd",
        "colab_type": "code",
        "outputId": "0787d86d-19f8-4206-d0c6-95841206af6c",
        "colab": {
          "base_uri": "https://localhost:8080/",
          "height": 34
        }
      },
      "source": [
        "#random forest classifier\n",
        "from sklearn.ensemble import RandomForestClassifier\n",
        "rfc = RandomForestClassifier(n_estimators=10,max_depth=5,max_features=1)\n",
        "rfc.fit(X1_train,y1_train)\n",
        "y1_pred=rfc.predict(X1_test)\n",
        "print(metrics.accuracy_score(y1_test,y1_pred))\n"
      ],
      "execution_count": 0,
      "outputs": [
        {
          "output_type": "stream",
          "text": [
            "0.9666666666666667\n"
          ],
          "name": "stdout"
        }
      ]
    },
    {
      "cell_type": "code",
      "metadata": {
        "id": "ePldiuoxKai0",
        "colab_type": "code",
        "outputId": "124b2007-a3dc-4696-e083-3750cc2fbaa9",
        "colab": {
          "base_uri": "https://localhost:8080/",
          "height": 88
        }
      },
      "source": [
        "#MLP classifier\n",
        "from sklearn.neural_network import MLPClassifier\n",
        "mlp = MLPClassifier(alpha=1)\n",
        "mlp.fit(X1_train,y1_train)\n",
        "y1_pred=mlp.predict(X1_test)\n",
        "print(metrics.accuracy_score(y1_test,y1_pred))"
      ],
      "execution_count": 0,
      "outputs": [
        {
          "output_type": "stream",
          "text": [
            "0.9666666666666667\n"
          ],
          "name": "stdout"
        },
        {
          "output_type": "stream",
          "text": [
            "/usr/local/lib/python3.6/dist-packages/sklearn/neural_network/_multilayer_perceptron.py:571: ConvergenceWarning: Stochastic Optimizer: Maximum iterations (200) reached and the optimization hasn't converged yet.\n",
            "  % self.max_iter, ConvergenceWarning)\n"
          ],
          "name": "stderr"
        }
      ]
    },
    {
      "cell_type": "code",
      "metadata": {
        "id": "RmiwW8vmLDFK",
        "colab_type": "code",
        "outputId": "ade211c7-f59d-4cfb-c4e6-dfc73789af40",
        "colab": {
          "base_uri": "https://localhost:8080/",
          "height": 34
        }
      },
      "source": [
        "#adaBoost classifier\n",
        "from sklearn.ensemble import AdaBoostClassifier\n",
        "mlp = AdaBoostClassifier()\n",
        "mlp.fit(X1_train,y1_train)\n",
        "y1_pred=mlp.predict(X1_test)\n",
        "print(metrics.accuracy_score(y1_test,y1_pred))"
      ],
      "execution_count": 0,
      "outputs": [
        {
          "output_type": "stream",
          "text": [
            "0.9333333333333333\n"
          ],
          "name": "stdout"
        }
      ]
    },
    {
      "cell_type": "code",
      "metadata": {
        "id": "256aLm6eLeaD",
        "colab_type": "code",
        "outputId": "a764aaf9-3ac4-42c2-be68-70f406c3946d",
        "colab": {
          "base_uri": "https://localhost:8080/",
          "height": 34
        }
      },
      "source": [
        "#GaussianNB classifier\n",
        "from sklearn.naive_bayes import GaussianNB\n",
        "mlp = GaussianNB()\n",
        "mlp.fit(X1_train,y1_train)\n",
        "y1_pred=mlp.predict(X1_test)\n",
        "print(metrics.accuracy_score(y1_test,y1_pred))"
      ],
      "execution_count": 0,
      "outputs": [
        {
          "output_type": "stream",
          "text": [
            "0.9666666666666667\n"
          ],
          "name": "stdout"
        }
      ]
    },
    {
      "cell_type": "code",
      "metadata": {
        "id": "C-xPHP7mMIi_",
        "colab_type": "code",
        "outputId": "f7a7d9a3-ef88-4c45-b975-1e26cce2d0a0",
        "colab": {
          "base_uri": "https://localhost:8080/",
          "height": 34
        }
      },
      "source": [
        "#Quadratic Discriminant analysis classifier\n",
        "from sklearn.discriminant_analysis import QuadraticDiscriminantAnalysis\n",
        "mlp = QuadraticDiscriminantAnalysis()\n",
        "mlp.fit(X1_train,y1_train)\n",
        "y1_pred=mlp.predict(X1_test)\n",
        "print(metrics.accuracy_score(y1_test,y1_pred))"
      ],
      "execution_count": 0,
      "outputs": [
        {
          "output_type": "stream",
          "text": [
            "0.9833333333333333\n"
          ],
          "name": "stdout"
        }
      ]
    },
    {
      "cell_type": "markdown",
      "metadata": {
        "id": "8x5AVKl5C04J",
        "colab_type": "text"
      },
      "source": [
        "DIGITS **dataset**"
      ]
    },
    {
      "cell_type": "code",
      "metadata": {
        "id": "n00r5UqYAJzI",
        "colab_type": "code",
        "outputId": "768d6fae-95d8-4516-8225-5a7d5a01bb3b",
        "colab": {
          "base_uri": "https://localhost:8080/",
          "height": 34
        }
      },
      "source": [
        "#knn(3) for digits dataset\n",
        "knn = KNeighborsClassifier(n_neighbors=3)\n",
        "knn.fit(X2_train, y2_train)\n",
        "y2_pred=knn.predict(X2_test)\n",
        "print(metrics.accuracy_score(y2_test, y2_pred))"
      ],
      "execution_count": 0,
      "outputs": [
        {
          "output_type": "stream",
          "text": [
            "0.9848484848484849\n"
          ],
          "name": "stdout"
        }
      ]
    },
    {
      "cell_type": "code",
      "metadata": {
        "id": "9fcfifcVBcIc",
        "colab_type": "code",
        "outputId": "f56148c9-8b7d-4061-e2f5-23316c9f2a6a",
        "colab": {
          "base_uri": "https://localhost:8080/",
          "height": 34
        }
      },
      "source": [
        "# SCV(kernel='linear',c=0.025) for digits\n",
        "clf=SVC(C=0.025,kernel=\"linear\")\n",
        "clf.fit(X2_train,y2_train)\n",
        "y2_pred=clf.predict(X2_test)\n",
        "print(metrics.accuracy_score(y2_test,y2_pred))"
      ],
      "execution_count": 0,
      "outputs": [
        {
          "output_type": "stream",
          "text": [
            "0.9764309764309764\n"
          ],
          "name": "stdout"
        }
      ]
    },
    {
      "cell_type": "code",
      "metadata": {
        "id": "lMmi36ASC51m",
        "colab_type": "code",
        "outputId": "053f1143-e191-4bfb-a09f-398567a38096",
        "colab": {
          "base_uri": "https://localhost:8080/",
          "height": 34
        }
      },
      "source": [
        "#SVC(c=1,gamma=2)\n",
        "clf=SVC(C=1,gamma=2)\n",
        "clf.fit(X2_train,y2_train)\n",
        "y2_pred=clf.predict(X2_test)\n",
        "print(metrics.accuracy_score(y2_test,y2_pred))"
      ],
      "execution_count": 0,
      "outputs": [
        {
          "output_type": "stream",
          "text": [
            "0.1717171717171717\n"
          ],
          "name": "stdout"
        }
      ]
    },
    {
      "cell_type": "code",
      "metadata": {
        "id": "LHGMIG_YC5ye",
        "colab_type": "code",
        "outputId": "e82ec583-4a1c-4152-d9d1-782c24d10725",
        "colab": {
          "base_uri": "https://localhost:8080/",
          "height": 34
        }
      },
      "source": [
        "#gaussian process classifier(1.0*RBF(1.0))\n",
        "kernel = 1.0 * RBF(1.0)\n",
        "gpc = GaussianProcessClassifier(kernel=kernel)\n",
        "gpc.fit(X2_train,y2_train)\n",
        "y2_pred=gpc.predict(X2_test)\n",
        "print(metrics.accuracy_score(y2_test,y2_pred))\n"
      ],
      "execution_count": 0,
      "outputs": [
        {
          "output_type": "stream",
          "text": [
            "0.09932659932659933\n"
          ],
          "name": "stdout"
        }
      ]
    },
    {
      "cell_type": "code",
      "metadata": {
        "id": "vNE-FQcPIYIA",
        "colab_type": "code",
        "outputId": "a38cb86a-a915-4284-fc93-a3142d6ed0a9",
        "colab": {
          "base_uri": "https://localhost:8080/",
          "height": 34
        }
      },
      "source": [
        "#decision tree classifer\n",
        "dtc = tree.DecisionTreeClassifier(max_depth=5)\n",
        "dtc.fit(X2_train,y2_train)\n",
        "y2_pred=dtc.predict(X2_test)\n",
        "print(metrics.accuracy_score(y2_test,y2_pred))"
      ],
      "execution_count": 0,
      "outputs": [
        {
          "output_type": "stream",
          "text": [
            "0.6481481481481481\n"
          ],
          "name": "stdout"
        }
      ]
    },
    {
      "cell_type": "code",
      "metadata": {
        "id": "8G2KS_X2J8Xk",
        "colab_type": "code",
        "outputId": "8a3959b7-d8f9-4773-da67-d48a747bc9b5",
        "colab": {
          "base_uri": "https://localhost:8080/",
          "height": 34
        }
      },
      "source": [
        "#random forest classifier\n",
        "rfc = RandomForestClassifier(n_estimators=10,max_depth=5,max_features=1)\n",
        "rfc.fit(X2_train,y2_train)\n",
        "y2_pred=rfc.predict(X2_test)\n",
        "print(metrics.accuracy_score(y2_test,y2_pred))"
      ],
      "execution_count": 0,
      "outputs": [
        {
          "output_type": "stream",
          "text": [
            "0.8265993265993266\n"
          ],
          "name": "stdout"
        }
      ]
    },
    {
      "cell_type": "code",
      "metadata": {
        "id": "lJrjv_UeK0c0",
        "colab_type": "code",
        "outputId": "6f47ba32-f2a8-492b-8712-00387d455683",
        "colab": {
          "base_uri": "https://localhost:8080/",
          "height": 34
        }
      },
      "source": [
        "#MLP classifier\n",
        "mlp = MLPClassifier(alpha=1)\n",
        "mlp.fit(X2_train,y2_train)\n",
        "y2_pred=mlp.predict(X2_test)\n",
        "print(metrics.accuracy_score(y2_test,y2_pred))"
      ],
      "execution_count": 0,
      "outputs": [
        {
          "output_type": "stream",
          "text": [
            "0.9747474747474747\n"
          ],
          "name": "stdout"
        }
      ]
    },
    {
      "cell_type": "code",
      "metadata": {
        "id": "sexFbnq_LSwu",
        "colab_type": "code",
        "outputId": "4343ca14-39e0-4a84-f1e9-30e77d2de822",
        "colab": {
          "base_uri": "https://localhost:8080/",
          "height": 34
        }
      },
      "source": [
        "#adaBoost classifier\n",
        "mlp = AdaBoostClassifier()\n",
        "mlp.fit(X2_train,y2_train)\n",
        "y2_pred=mlp.predict(X2_test)\n",
        "print(metrics.accuracy_score(y2_test,y2_pred))"
      ],
      "execution_count": 0,
      "outputs": [
        {
          "output_type": "stream",
          "text": [
            "0.20707070707070707\n"
          ],
          "name": "stdout"
        }
      ]
    },
    {
      "cell_type": "code",
      "metadata": {
        "id": "p15ZPKwSL6za",
        "colab_type": "code",
        "outputId": "7f93fd62-4bc7-46be-ca62-de6d948ce531",
        "colab": {
          "base_uri": "https://localhost:8080/",
          "height": 34
        }
      },
      "source": [
        "#GaussianNB classifier\n",
        "mlp = GaussianNB()\n",
        "mlp.fit(X2_train,y2_train)\n",
        "y2_pred=mlp.predict(X2_test)\n",
        "print(metrics.accuracy_score(y2_test,y2_pred))"
      ],
      "execution_count": 0,
      "outputs": [
        {
          "output_type": "stream",
          "text": [
            "0.8619528619528619\n"
          ],
          "name": "stdout"
        }
      ]
    },
    {
      "cell_type": "code",
      "metadata": {
        "id": "SqWW117vMhbR",
        "colab_type": "code",
        "outputId": "ba376973-4c25-4025-db2a-43f04ca983b9",
        "colab": {
          "base_uri": "https://localhost:8080/",
          "height": 68
        }
      },
      "source": [
        "#Quadratic Discriminant analysis classifier\n",
        "mlp = QuadraticDiscriminantAnalysis()\n",
        "mlp.fit(X2_train,y2_train)\n",
        "y2_pred=mlp.predict(X2_test)\n",
        "print(metrics.accuracy_score(y2_test,y2_pred))"
      ],
      "execution_count": 0,
      "outputs": [
        {
          "output_type": "stream",
          "text": [
            "0.8905723905723906\n"
          ],
          "name": "stdout"
        },
        {
          "output_type": "stream",
          "text": [
            "/usr/local/lib/python3.6/dist-packages/sklearn/discriminant_analysis.py:691: UserWarning: Variables are collinear\n",
            "  warnings.warn(\"Variables are collinear\")\n"
          ],
          "name": "stderr"
        }
      ]
    },
    {
      "cell_type": "markdown",
      "metadata": {
        "id": "EBXwd42ZMyfA",
        "colab_type": "text"
      },
      "source": [
        "Boston **dataset**"
      ]
    },
    {
      "cell_type": "code",
      "metadata": {
        "id": "VafWz0juM3jR",
        "colab_type": "code",
        "outputId": "d9e4bb22-33c4-409d-aeef-a9cac11722dd",
        "colab": {
          "base_uri": "https://localhost:8080/",
          "height": 34
        }
      },
      "source": [
        "#knn(3) for digits dataset\n",
        "knn = KNeighborsClassifier(n_neighbors=3)\n",
        "knn.fit(X3_train, y3_train)\n",
        "y3_pred=knn.predict(X3_test)\n",
        "print(metrics.accuracy_score(y3_test, y3_pred))"
      ],
      "execution_count": 0,
      "outputs": [
        {
          "output_type": "stream",
          "text": [
            "0.6946107784431138\n"
          ],
          "name": "stdout"
        }
      ]
    },
    {
      "cell_type": "code",
      "metadata": {
        "id": "oBvqiAWgM3eA",
        "colab_type": "code",
        "outputId": "f5c51251-8b8f-458a-c71f-f14740079616",
        "colab": {
          "base_uri": "https://localhost:8080/",
          "height": 34
        }
      },
      "source": [
        "# SCV(kernel='linear',c=0.025) for digits\n",
        "knn=SVC(C=0.025,kernel=\"linear\")\n",
        "knn.fit(X3_train, y3_train)\n",
        "y3_pred=knn.predict(X3_test)\n",
        "print(metrics.accuracy_score(y3_test, y3_pred))"
      ],
      "execution_count": 0,
      "outputs": [
        {
          "output_type": "stream",
          "text": [
            "0.8263473053892215\n"
          ],
          "name": "stdout"
        }
      ]
    },
    {
      "cell_type": "code",
      "metadata": {
        "id": "b-A0bydyM3ax",
        "colab_type": "code",
        "outputId": "c6fc3626-8ee9-4d74-818e-42113174fd00",
        "colab": {
          "base_uri": "https://localhost:8080/",
          "height": 34
        }
      },
      "source": [
        "#SVC(c=1,gamma=2)\n",
        "knn=SVC(C=1,gamma=2)\n",
        "knn.fit(X3_train, y3_train)\n",
        "y3_pred=knn.predict(X3_test)\n",
        "print(metrics.accuracy_score(y3_test, y3_pred))"
      ],
      "execution_count": 0,
      "outputs": [
        {
          "output_type": "stream",
          "text": [
            "0.4431137724550898\n"
          ],
          "name": "stdout"
        }
      ]
    },
    {
      "cell_type": "code",
      "metadata": {
        "id": "QOjURLaIM3W5",
        "colab_type": "code",
        "outputId": "1885e4b7-ea6a-47ce-c4d8-f448ef87fe09",
        "colab": {
          "base_uri": "https://localhost:8080/",
          "height": 34
        }
      },
      "source": [
        "#gaussian process classifier(1.0*RBF(1.0))\n",
        "knn = GaussianProcessClassifier(kernel=kernel)\n",
        "knn.fit(X3_train, y3_train)\n",
        "y3_pred=knn.predict(X3_test)\n",
        "print(metrics.accuracy_score(y3_test, y3_pred))"
      ],
      "execution_count": 0,
      "outputs": [
        {
          "output_type": "stream",
          "text": [
            "0.8143712574850299\n"
          ],
          "name": "stdout"
        }
      ]
    },
    {
      "cell_type": "code",
      "metadata": {
        "id": "E1IlQIvKM3LZ",
        "colab_type": "code",
        "outputId": "ca07e631-edf2-4409-f6ca-569cc84e9e56",
        "colab": {
          "base_uri": "https://localhost:8080/",
          "height": 34
        }
      },
      "source": [
        "#decision tree classifer\n",
        "knn = tree.DecisionTreeClassifier(max_depth=5)\n",
        "knn.fit(X3_train, y3_train)\n",
        "y3_pred=knn.predict(X3_test)\n",
        "print(metrics.accuracy_score(y3_test, y3_pred))"
      ],
      "execution_count": 0,
      "outputs": [
        {
          "output_type": "stream",
          "text": [
            "0.8143712574850299\n"
          ],
          "name": "stdout"
        }
      ]
    },
    {
      "cell_type": "code",
      "metadata": {
        "id": "DGQOqAZ9M261",
        "colab_type": "code",
        "outputId": "c8603ead-39d3-40b5-c8aa-6653e0668034",
        "colab": {
          "base_uri": "https://localhost:8080/",
          "height": 34
        }
      },
      "source": [
        "#random forest classifier\n",
        "knn= RandomForestClassifier(n_estimators=10,max_depth=5,max_features=1)\n",
        "knn.fit(X3_train, y3_train)\n",
        "y3_pred=knn.predict(X3_test)\n",
        "print(metrics.accuracy_score(y3_test, y3_pred))"
      ],
      "execution_count": 0,
      "outputs": [
        {
          "output_type": "stream",
          "text": [
            "0.8203592814371258\n"
          ],
          "name": "stdout"
        }
      ]
    },
    {
      "cell_type": "code",
      "metadata": {
        "id": "gJ7HA5diM2pk",
        "colab_type": "code",
        "outputId": "e548b715-10b2-4952-9a4f-6569ae53a38c",
        "colab": {
          "base_uri": "https://localhost:8080/",
          "height": 34
        }
      },
      "source": [
        "#adaBoost classifier\n",
        "knn = AdaBoostClassifier()\n",
        "knn.fit(X3_train, y3_train)\n",
        "y3_pred=knn.predict(X3_test)\n",
        "print(metrics.accuracy_score(y3_test, y3_pred))"
      ],
      "execution_count": 0,
      "outputs": [
        {
          "output_type": "stream",
          "text": [
            "0.8083832335329342\n"
          ],
          "name": "stdout"
        }
      ]
    },
    {
      "cell_type": "code",
      "metadata": {
        "id": "_ab77ihY2oDY",
        "colab_type": "code",
        "outputId": "a0ea8299-5cc3-431b-f69b-4a6d130442d1",
        "colab": {
          "base_uri": "https://localhost:8080/",
          "height": 34
        }
      },
      "source": [
        "#MLP classifier\n",
        "knn = MLPClassifier(alpha=1)\n",
        "knn.fit(X3_train, y3_train)\n",
        "y3_pred=knn.predict(X3_test)\n",
        "print(metrics.accuracy_score(y3_test, y3_pred))"
      ],
      "execution_count": 0,
      "outputs": [
        {
          "output_type": "stream",
          "text": [
            "0.7365269461077845\n"
          ],
          "name": "stdout"
        }
      ]
    },
    {
      "cell_type": "code",
      "metadata": {
        "id": "zwoYv2OWzR6A",
        "colab_type": "code",
        "outputId": "b5accb39-0822-4a4a-f45e-382a9159f500",
        "colab": {
          "base_uri": "https://localhost:8080/",
          "height": 34
        }
      },
      "source": [
        "#GaussianNB classifier\n",
        "knn = GaussianNB()\n",
        "knn.fit(X3_train, y3_train)\n",
        "y3_pred=knn.predict(X3_test)\n",
        "print(metrics.accuracy_score(y3_test, y3_pred))"
      ],
      "execution_count": 0,
      "outputs": [
        {
          "output_type": "stream",
          "text": [
            "0.7125748502994012\n"
          ],
          "name": "stdout"
        }
      ]
    },
    {
      "cell_type": "code",
      "metadata": {
        "id": "E4JNpjc5zRoy",
        "colab_type": "code",
        "outputId": "522dae41-a80e-4161-a6ba-c8f4d8ee9fbb",
        "colab": {
          "base_uri": "https://localhost:8080/",
          "height": 34
        }
      },
      "source": [
        "#Quadratic Discriminant analysis classifier\n",
        "knn = QuadraticDiscriminantAnalysis()\n",
        "knn.fit(X3_train, y3_train)\n",
        "y3_pred=knn.predict(X3_test)\n",
        "print(metrics.accuracy_score(y3_test, y3_pred))"
      ],
      "execution_count": 0,
      "outputs": [
        {
          "output_type": "stream",
          "text": [
            "0.7904191616766467\n"
          ],
          "name": "stdout"
        }
      ]
    },
    {
      "cell_type": "code",
      "metadata": {
        "id": "bti9AqKvzRY7",
        "colab_type": "code",
        "colab": {}
      },
      "source": [
        "X=['KNN','SVC(C=0.025)','SVC(C=1)','Gauss_classifier','Decision_tree','Random_forest','MLP','AdaBoost','GaussianNB','QuadDiscriminant']"
      ],
      "execution_count": 0,
      "outputs": []
    },
    {
      "cell_type": "code",
      "metadata": {
        "id": "tlsVO9dCzREq",
        "colab_type": "code",
        "colab": {}
      },
      "source": [
        "i=[[0.69,0.95,0.98,0.96,0.96,0.96,0.96,0.93,0.96,0.98],\n",
        "   [0.98,0.97,0.17,0.09,0.64,0.82,0.97,0.20,0.86,0.89],\n",
        "   [0.69,0.82,0.44,0.81,0.81,0.82,0.80,0.73,0.71,0.79]]"
      ],
      "execution_count": 0,
      "outputs": []
    },
    {
      "cell_type": "code",
      "metadata": {
        "id": "7NZLbkKFyNwB",
        "colab_type": "code",
        "outputId": "9e5f7f55-2b7e-44be-f6f6-0d7339820fb6",
        "colab": {
          "base_uri": "https://localhost:8080/",
          "height": 296
        }
      },
      "source": [
        "import matplotlib.pyplot as plt\n",
        "plt.plot(X, i[0], label = \"iris dataset\")\n",
        "plt.plot(X, i[1], label = \"digits dataset\")\n",
        "plt.plot(X, i[2], label = \"boston dataset\")\n",
        "plt.xlabel('Classifiers')\n",
        "plt.ylabel('Accuracy')\n",
        "plt.title('comparision of classifiers')\n",
        "plt.legend()\n",
        "plt.show()"
      ],
      "execution_count": 0,
      "outputs": [
        {
          "output_type": "display_data",
          "data": {
            "image/png": "[encoded data removed]",
            "text/plain": [
              "<Figure size 432x288 with 1 Axes>"
            ]
          },
          "metadata": {
            "tags": [],
            "needs_background": "light"
          }
        }
      ]
    },
    {
      "cell_type": "code",
      "metadata": {
        "id": "u1-oWFyi0iPj",
        "colab_type": "code",
        "colab": {}
      },
      "source": [
        ""
      ],
      "execution_count": 0,
      "outputs": []
    },
    {
      "cell_type": "code",
      "metadata": {
        "id": "3ZhB89C90iP0",
        "colab_type": "code",
        "colab": {}
      },
      "source": [
        ""
      ],
      "execution_count": 0,
      "outputs": []
    }
  ]
}